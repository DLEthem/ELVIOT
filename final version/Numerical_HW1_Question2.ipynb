{
 "cells": [
  {
   "cell_type": "markdown",
   "id": "d1f06b1a",
   "metadata": {},
   "source": [
    "\n",
    "# HYPERUNIFORMITY NUMERICAL PROJECT #\n",
    "Monroy Merida Diana Laura, Candellone Elena, Ghivarello Sara, Pierannunzi Elena  "
   ]
  },
  {
   "cell_type": "code",
   "execution_count": 31,
   "id": "05e09453",
   "metadata": {},
   "outputs": [],
   "source": [
    "#import useful packages\n",
    "import numpy as np\n",
    "import matplotlib\n",
    "import matplotlib.pyplot as plt\n",
    "from numpy import random\n",
    "import time"
   ]
  },
  {
   "cell_type": "markdown",
   "id": "162420bf",
   "metadata": {},
   "source": [
    "# Shuffled Matrix generation\n"
   ]
  },
  {
   "cell_type": "code",
   "execution_count": 32,
   "id": "27c54b4a",
   "metadata": {},
   "outputs": [],
   "source": [
    "def shuffled(L, Δ):\n",
    "    \n",
    "    A=[]\n",
    "    original = np.linspace(0,L-1,L)\n",
    "    \n",
    "    for i in original:\n",
    "        for j in original:\n",
    "        \n",
    "            x = i+random.uniform(low= -Δ/2, high=Δ/2)   \n",
    "            y = j+random.uniform(low= -Δ/2, high=Δ/2)       \n",
    "            A.append([x,y])\n",
    "            \n",
    "    return A"
   ]
  },
  {
   "cell_type": "markdown",
   "id": "c8f8e8ac",
   "metadata": {},
   "source": [
    "# Distance between patricles\n",
    "\n",
    "Takes a point $x_0$ and a matrix. Returns an array that contains the distances between all points of the matrix and $x_0$.\n",
    "\n",
    "i.e. $$ arr\\_dist = [distance(x_0,x_1),distance(x_0,x_2) ...]$$"
   ]
  },
  {
   "cell_type": "code",
   "execution_count": 33,
   "id": "5d8a1ac5",
   "metadata": {},
   "outputs": [],
   "source": [
    "def distance(x_0,matrix,L):\n",
    "#arrays with all x and y coordinates of matrix elements\n",
    "    x = [sites[0] for sites in matrix]\n",
    "    y = [sites[1] for sites in matrix]\n",
    "    delta_x = [abs(x_0[0]-i) if abs(x_0[0]-i)<=L/2 else (L-abs(x_0[0]-i)) for i in x]\n",
    "    delta_y = [abs(x_0[1]-j) if abs(x_0[1]-j)<=L/2 else (L-abs(x_0[1]-j)) for j in y]\n",
    "#store all the distances into an array\n",
    "    arr_dist = [(delta_x[i]**2 + delta_y[i]**2)**(1/2) for i in range(len(delta_x))]\n",
    "    return arr_dist"
   ]
  },
  {
   "cell_type": "markdown",
   "id": "b6e6db49",
   "metadata": {},
   "source": [
    "# Radii generation\n",
    "Generate an array, given the size of the matrix L and the number of steps, with\n",
    "\n",
    "$$ \\{r\\} \\mid r \\in [0.1,L/2] $$ with a certain number of values (steps)"
   ]
  },
  {
   "cell_type": "code",
   "execution_count": 46,
   "id": "ba0b6107",
   "metadata": {},
   "outputs": [],
   "source": [
    "def radii(L, steps):\n",
    "    radius = np.linspace(0.1,L/2,num=steps)\n",
    "    return radius"
   ]
  },
  {
   "cell_type": "markdown",
   "id": "1548c8b9",
   "metadata": {},
   "source": [
    "# Center random generation\n",
    "Choose randomly a center $x_0$ inside the matrix of size L x L\n",
    "\n",
    "Generate an array with n values of $x_0$"
   ]
  },
  {
   "cell_type": "code",
   "execution_count": 47,
   "id": "08a0b1f6",
   "metadata": {},
   "outputs": [],
   "source": [
    "def x_0(L):                                                                              \n",
    "    x = random.uniform(int(0),int(L))\n",
    "    y = random.uniform(int(0),int(L))\n",
    "    center = [x,y]\n",
    "    return center\n",
    "\n",
    "def vec_x0(L,n):\n",
    "    v = [x_0(L) for i in range(n)]\n",
    "    return v"
   ]
  },
  {
   "cell_type": "markdown",
   "id": "bacee89d",
   "metadata": {},
   "source": [
    "# Count the neighbours\n",
    "This function counts how many particles are into a certain distance from the center $x_0$.\n",
    "\n",
    "In particular, we give as a parameter an array of radii and we store in the array counts all the countings for each radius.\n",
    "i.e. $$count = [ count\\_R(r1), count\\_R(r2) ... ]$$"
   ]
  },
  {
   "cell_type": "code",
   "execution_count": 48,
   "id": "ee18a044",
   "metadata": {},
   "outputs": [],
   "source": [
    "def count_s(x_0,mat,radius,L): #count how many points are at a distance <= r from x\n",
    "    dist = distance(x_0,mat,L)\n",
    "    dist.sort()\n",
    "    d = np.array(dist)\n",
    "    counts = []\n",
    "    for R in radius:\n",
    "        count_R = np.count_nonzero(d <= R)\n",
    "        counts.append(count_R)\n",
    "    #print(counts)\n",
    "    return counts"
   ]
  },
  {
   "cell_type": "markdown",
   "id": "f6de0c39",
   "metadata": {},
   "source": [
    "Generate an matrix (array of arrays) with the countings for each value of x_0 (take n of them).\n",
    "The matrix will have rows determined by $\\{x_0\\}$ and columns determined by $\\{R\\}$"
   ]
  },
  {
   "cell_type": "code",
   "execution_count": 49,
   "id": "77fa06e5",
   "metadata": {},
   "outputs": [],
   "source": [
    "def arr_counts(L,n,radius,mat):\n",
    "    v = vec_x0(L,n)\n",
    "    arr = [count_s(x0,mat,radius,L) for x0 in v]\n",
    "    return arr"
   ]
  },
  {
   "cell_type": "markdown",
   "id": "e5366452",
   "metadata": {},
   "source": [
    "# Calculate the rescaled variance\n",
    "This functions takes the size L, the number n of $x_0$'s, the set of radii and the matrix in order to calculate the rescaled variance $$\\frac{\\sigma(R)^2}{R^2 }= \\frac{\\langle N(R)^2 \\rangle - \\langle N(R) \\rangle^2}{R^2}$$\n",
    "For each size L an array of variances is created."
   ]
  },
  {
   "cell_type": "code",
   "execution_count": 50,
   "id": "436432b9",
   "metadata": {},
   "outputs": [],
   "source": [
    "def variance(L,n,radius,mat):\n",
    "    arr = arr_counts(L,n,radius,mat)\n",
    "    m = np.array(arr)\n",
    "    arr_var = []\n",
    "    for i in range(len(radius)):\n",
    "        mom = np.power(m[:,i],2)\n",
    "        var = (np.average(mom)-np.power(np.average(m[:,i]),2))/radius[i]**2\n",
    "        arr_var.append(var)\n",
    "    return arr_var"
   ]
  },
  {
   "cell_type": "markdown",
   "id": "e7ed67d3",
   "metadata": {},
   "source": [
    "# 2.1\n",
    "_Modify the previous code for simulating this new system and plot rescaled variance as\n",
    "a function of the distance for different systems when ∆ = 1, 2, 3, 4, 5. (L = 100). Save\n",
    "the program and generate the pdf files for the different figures. What do you oberve ?\n",
    "Give a physical interpretation of the observation._"
   ]
  },
  {
   "cell_type": "code",
   "execution_count": null,
   "id": "93ea4607",
   "metadata": {},
   "outputs": [],
   "source": [
    "start = time.time()\n",
    "size = 100\n",
    "Δ=[1, 2, 3, 4, 5]\n",
    "arrays_var = []\n",
    "radius = []\n",
    "\n",
    "\n",
    "for i in range(len(Δ)):\n",
    "    a = shuffled(size,Δ[i])\n",
    "    radius.append(radii(size,200))\n",
    "    arrays_var.append(variance(size,10000,radius[i],a))\n",
    "    \n",
    "    \n",
    "total = time.time()-start"
   ]
  },
  {
   "cell_type": "code",
   "execution_count": null,
   "id": "c5da139d",
   "metadata": {},
   "outputs": [],
   "source": [
    "#plot the results in log-log scale\n",
    "plt.figure(figsize=(10, 6))\n",
    "ax = plt.subplot(111) \n",
    "plt.xlim(0.1, 100) \n",
    "\n",
    "for i in range(len(Δ)):\n",
    "    plt.plot(radius[i], arrays_var[i], label = 'Δ =' + str(Δ[i]))\n",
    "    plt.xscale('log')\n",
    "    plt.yscale('log')\n",
    "\n",
    "x = np.linspace(1, 100, 1000)\n",
    "#plt.plot(x,0.457648/x)\n",
    "plt.title('rescaled variance', fontsize=15)\n",
    "plt.xlabel('r')\n",
    "plt.ylabel('var/r^2')\n",
    "plt.legend()\n",
    "plt.show()"
   ]
  },
  {
   "cell_type": "markdown",
   "id": "ac8c8e7d",
   "metadata": {},
   "source": [
    "# 2.2\n",
    "_Modify the previous code in order to plot for ∆ = 2 the results for L = 50, 100, 200. Comment your results._"
   ]
  },
  {
   "cell_type": "code",
   "execution_count": null,
   "id": "e31a1b0a",
   "metadata": {},
   "outputs": [],
   "source": [
    "start = time.time()\n",
    "size = [50,100,200]\n",
    "Δ= 2\n",
    "arrays_var = []\n",
    "radius = []\n",
    "\n",
    "\n",
    "for i in range(len(size)):\n",
    "    a = shuffled(size[i],Δ)\n",
    "    radius.append(radii(size[i],200))\n",
    "    arrays_var.append(variance(size[i],10000,radius[i],a))\n",
    "    \n",
    "    \n",
    "total = time.time()-start"
   ]
  },
  {
   "cell_type": "code",
   "execution_count": null,
   "id": "085bec0a",
   "metadata": {},
   "outputs": [],
   "source": [
    "#plot the results in log-log scale\n",
    "plt.figure(figsize=(10, 6))\n",
    "ax = plt.subplot(111) \n",
    "plt.xlim(0.1, 100) \n",
    "\n",
    "for i in range(len(size)):\n",
    "    plt.plot(radius[i], arrays_var[i], label = 'size =' + str(size[i]))\n",
    "    plt.xscale('log')\n",
    "    plt.yscale('log')\n",
    "\n",
    "x = np.linspace(1, 100, 1000)\n",
    "#plt.plot(x,0.457648/x)\n",
    "plt.title('rescaled variance', fontsize=15)\n",
    "plt.xlabel('r')\n",
    "plt.ylabel('var/r^2')\n",
    "plt.legend()\n",
    "plt.show()"
   ]
  },
  {
   "cell_type": "code",
   "execution_count": null,
   "id": "1631ccbc",
   "metadata": {},
   "outputs": [],
   "source": []
  }
 ],
 "metadata": {
  "kernelspec": {
   "display_name": "Python 3",
   "language": "python",
   "name": "python3"
  },
  "language_info": {
   "codemirror_mode": {
    "name": "ipython",
    "version": 3
   },
   "file_extension": ".py",
   "mimetype": "text/x-python",
   "name": "python",
   "nbconvert_exporter": "python",
   "pygments_lexer": "ipython3",
   "version": "3.8.8"
  }
 },
 "nbformat": 4,
 "nbformat_minor": 5
}
