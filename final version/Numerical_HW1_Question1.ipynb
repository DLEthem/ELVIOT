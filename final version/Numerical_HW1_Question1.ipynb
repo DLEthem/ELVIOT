{
 "cells": [
  {
   "cell_type": "markdown",
   "id": "d1f06b1a",
   "metadata": {},
   "source": [
    "\n",
    "# HYPERUNIFORMITY NUMERICAL PROJECT - Question 1 #\n",
    "Monroy Merida Diana Laura, Candellone Elena, Ghivarello Sara, Pierannunzi Elena  "
   ]
  },
  {
   "cell_type": "code",
   "execution_count": 8,
   "id": "05e09453",
   "metadata": {},
   "outputs": [],
   "source": [
    "#import useful packages\n",
    "import numpy as np\n",
    "import matplotlib\n",
    "import matplotlib.pyplot as plt\n",
    "from numpy import random\n",
    "import time"
   ]
  },
  {
   "cell_type": "markdown",
   "id": "162420bf",
   "metadata": {},
   "source": [
    "# Matrix generation\n",
    "generate a matrix of size 2L x 2L (our matrix L x L with an outer shell that is needed in order to take into account PBC)\n",
    "\n",
    "the matrix is constucted in such a way that in every position there are the coordinates of the particle\n",
    "\n",
    "EXAMPLE for L = 1:\n",
    "\n",
    "$$ a = create(1) =  \\begin{bmatrix}\n",
    "[0,0] & [0,1] \\\\\n",
    "[1,0] & [1,1] \n",
    "\\end{bmatrix}  $$"
   ]
  },
  {
   "cell_type": "code",
   "execution_count": 9,
   "id": "27c54b4a",
   "metadata": {},
   "outputs": [],
   "source": [
    "def create(L) :\n",
    "    return [[x_0,x_1] for x_0 in range(2*L) for x_1 in range(2*L)]"
   ]
  },
  {
   "cell_type": "markdown",
   "id": "c8f8e8ac",
   "metadata": {},
   "source": [
    "# Distance between patricles\n",
    "\n",
    "Takes a point $x_0$ and a matrix. Returns an array that contains the distances between all points of the matrix and $x_0$.\n",
    "\n",
    "i.e. $$ arr\\_dist = [distance(x_0,x_1),distance(x_0,x_2) ...]$$"
   ]
  },
  {
   "cell_type": "code",
   "execution_count": 10,
   "id": "5d8a1ac5",
   "metadata": {},
   "outputs": [],
   "source": [
    "def distance(x_0,matrix):\n",
    "#arrays with all x and y coordinates of matrix elements\n",
    "    x = [sites[0] for sites in matrix]\n",
    "    y = [sites[1] for sites in matrix]\n",
    "    delta_x = [abs(x_0[0]-i) for i in x]\n",
    "    delta_y = [abs(x_0[1]-j) for j in y]\n",
    "#store all the distances into an array\n",
    "    arr_dist = [(delta_x[i]**2 + delta_y[i]**2)**(1/2) for i in range(len(delta_x))]\n",
    "    return arr_dist"
   ]
  },
  {
   "cell_type": "markdown",
   "id": "b6e6db49",
   "metadata": {},
   "source": [
    "# Radii generation\n",
    "Generate an array, given the size of the matrix L and the number of steps, with\n",
    "\n",
    "$$ \\{r\\} \\mid r \\in [0.1,L/2] $$ with a certain number of values (steps)"
   ]
  },
  {
   "cell_type": "code",
   "execution_count": 11,
   "id": "ba0b6107",
   "metadata": {},
   "outputs": [],
   "source": [
    "def radii(L, steps):\n",
    "    radius = np.linspace(0.1,L/2,num=steps)\n",
    "    return radius"
   ]
  },
  {
   "cell_type": "markdown",
   "id": "1548c8b9",
   "metadata": {},
   "source": [
    "# Center random generation\n",
    "Choose randomly a center $x_0$ inside the matrix of size L x L\n",
    "\n",
    "Generate an array with n values of $x_0$"
   ]
  },
  {
   "cell_type": "code",
   "execution_count": 12,
   "id": "08a0b1f6",
   "metadata": {},
   "outputs": [],
   "source": [
    "def x_0(L):                                                                              \n",
    "    x = random.uniform(round(L/2),round(3*L/2))\n",
    "    y = random.uniform(round(L/2),round(3*L/2))\n",
    "    center = [x,y]\n",
    "    return center\n",
    "\n",
    "def vec_x0(L,n):\n",
    "    v = [x_0(L) for i in range(n)]\n",
    "    return v"
   ]
  },
  {
   "cell_type": "markdown",
   "id": "bacee89d",
   "metadata": {},
   "source": [
    "# Count the neighbours\n",
    "This function counts how many particles are into a certain distance from the center $x_0$.\n",
    "\n",
    "In particular, we give as a parameter an array of radii and we store in the array counts all the countings for each radius.\n",
    "i.e. $$count = [ count\\_R(r1), count\\_R(r2) ... ]$$"
   ]
  },
  {
   "cell_type": "code",
   "execution_count": 13,
   "id": "ee18a044",
   "metadata": {},
   "outputs": [],
   "source": [
    "def count(x_0,mat,radius):\n",
    "    L = len(mat)\n",
    "    dist = distance(x_0,mat)\n",
    "    d = np.array(dist)\n",
    "    counts = []\n",
    "    for R in radius:\n",
    "        count_R = np.count_nonzero(d <= R)\n",
    "        counts.append(count_R)\n",
    "    return counts"
   ]
  },
  {
   "cell_type": "markdown",
   "id": "f6de0c39",
   "metadata": {},
   "source": [
    "Generate an matrix (array of arrays) with the countings for each value of x_0 (take n of them).\n",
    "The matrix will have rows determined by $\\{x_0\\}$ and columns determined by $\\{R\\}$"
   ]
  },
  {
   "cell_type": "code",
   "execution_count": 14,
   "id": "77fa06e5",
   "metadata": {},
   "outputs": [],
   "source": [
    "def arr_counts(L,n,radius,mat):\n",
    "    v = vec_x0(L,n)\n",
    "    arr = [count(x0,mat,radius) for x0 in v]\n",
    "    return arr"
   ]
  },
  {
   "cell_type": "markdown",
   "id": "e5366452",
   "metadata": {},
   "source": [
    "# Calculate the rescaled variance\n",
    "This functions takes the size L, the number n of $x_0$'s, the set of radii and the matrix in order to calculate the rescaled variance $$\\frac{\\sigma(R)^2}{R^2 }= \\frac{\\langle N(R)^2 \\rangle - \\langle N(R) \\rangle^2}{R^2}$$\n",
    "For each size L an array of variances is created."
   ]
  },
  {
   "cell_type": "code",
   "execution_count": 15,
   "id": "436432b9",
   "metadata": {},
   "outputs": [],
   "source": [
    "def variance(L,n,radius,mat):\n",
    "    arr = arr_counts(L,n,radius,mat)\n",
    "    m = np.array(arr)\n",
    "    arr_var = []\n",
    "    for i in range(len(radius)):\n",
    "        mom = np.power(m[:,i],2)\n",
    "        var = (np.average(mom)-np.power(np.average(m[:,i]),2))/radius[i]**2\n",
    "        arr_var.append(var)\n",
    "    return arr_var"
   ]
  },
  {
   "cell_type": "markdown",
   "id": "1cf8ce7f",
   "metadata": {},
   "source": [
    "# 1.1\n",
    "_Write a simple code displaying point particles on a square lattice of linear size L = 10._"
   ]
  },
  {
   "cell_type": "code",
   "execution_count": 16,
   "id": "98dd0fed",
   "metadata": {},
   "outputs": [
    {
     "data": {
      "image/png": "[encoded data removed]",
      "text/plain": [
       "<Figure size 432x288 with 1 Axes>"
      ]
     },
     "metadata": {
      "needs_background": "light"
     },
     "output_type": "display_data"
    }
   ],
   "source": [
    "L = 10\n",
    "a = create(int(L/2))                      #here I want to show just the L x L matrix, ignoring the outer cell\n",
    "x = [sites[0] for sites in a]\n",
    "y = [sites[1] for sites in a]\n",
    "plt.plot(x,y,'o', color='black', markersize=2)\n",
    "plt.show()"
   ]
  },
  {
   "cell_type": "markdown",
   "id": "1370c224",
   "metadata": {},
   "source": [
    "# 1.2\n",
    "_Justify why the maximum distance for measuring the variance is L/2._\n",
    "\n",
    "_Calculate the mean variance as a function of r for $L = [50,100,200]$_"
   ]
  },
  {
   "cell_type": "markdown",
   "id": "073adb87",
   "metadata": {},
   "source": [
    "We cannot take a distance bigger than L/2 without avoiding repetitions in the choice of the particles. The circle of radius L/2 is the biggest circle that can be inscribed in a square of side L."
   ]
  },
  {
   "cell_type": "code",
   "execution_count": 20,
   "id": "1b5ff5b5",
   "metadata": {},
   "outputs": [],
   "source": [
    "start = time.time()\n",
    "size = [50,100,200]\n",
    "arrays_var = []\n",
    "radius = []\n",
    "\n",
    "\n",
    "for i in range(len(size)):\n",
    "    a = create(size[i])\n",
    "    radius.append(radii(size[i],200))\n",
    "    arrays_var.append(variance(size[i],10000,radius[i],a))\n",
    "    \n",
    "    \n",
    "total = time.time()-start"
   ]
  },
  {
   "cell_type": "code",
   "execution_count": 21,
   "id": "ff6996e1",
   "metadata": {},
   "outputs": [],
   "source": [
    "np.savetxt(\"arrays.txt\", np.array(arrays_var))"
   ]
  },
  {
   "cell_type": "code",
   "execution_count": 22,
   "id": "d31bf159",
   "metadata": {},
   "outputs": [
    {
     "name": "stdout",
     "output_type": "stream",
     "text": [
      "total execution time: 1540.1606426239014 s\n"
     ]
    }
   ],
   "source": [
    "print(\"total execution time: \" + str(total) + \" s\")"
   ]
  },
  {
   "cell_type": "code",
   "execution_count": 26,
   "id": "e34107c0",
   "metadata": {
    "scrolled": true
   },
   "outputs": [
    {
     "data": {
      "image/png": "[encoded data removed]",
      "text/plain": [
       "<Figure size 720x432 with 1 Axes>"
      ]
     },
     "metadata": {
      "needs_background": "light"
     },
     "output_type": "display_data"
    }
   ],
   "source": [
    "#plot the results in log-log scale\n",
    "plt.figure(figsize=(10, 6))\n",
    "ax = plt.subplot(111) \n",
    "plt.xlim(0.1, 100) \n",
    "\n",
    "for i in range(len(size)):\n",
    "    plt.plot(radius[i], arrays_var[i], label = 'L =' + str(size[i]))\n",
    "    plt.xscale('log')\n",
    "    plt.yscale('log')\n",
    "\n",
    "x = np.linspace(1, 100, 1000)\n",
    "plt.plot(x,0.457648/x)\n",
    "plt.title('rescaled variance', fontsize=15)\n",
    "plt.xlabel('r')\n",
    "plt.ylabel('var/r^2')\n",
    "plt.legend()\n",
    "plt.savefig(\"variance.png\")"
   ]
  },
  {
   "cell_type": "markdown",
   "id": "22194c0e",
   "metadata": {},
   "source": [
    "# 1.3\n",
    "_Comment the results : why do $\\frac{\\sigma(R)^2}{R^2 }$ goes to a constant at short distance ? What are the reasons of the oscillations of the curve? The straight line corresponds to the asymptotic behavior of variance at long distance. Why do the amplitudes of the oscillations decrease at long distance ?_"
   ]
  },
  {
   "cell_type": "markdown",
   "id": "7c472fce",
   "metadata": {},
   "source": [
    "To understand the behaviour of the system in the small $R$ limit, we express the variance as a function of $R$: \n",
    "\n",
    "\\begin{equation}\n",
    " \\sigma^2 = \\langle N^2(R) \\rangle - \\langle N(R) \\rangle^2\n",
    "\\end{equation}\n",
    "\n",
    "making use of the correspondence : \n",
    "\n",
    "\\begin{equation}\n",
    " \\sum_x N(R)*P(x=x_0) \\leftrightarrow \\sum_N N(R)*P(N(R))\n",
    "\\end{equation}\n",
    "\n",
    "For small $R$, in particular for $R$ smaller than the lattice spacing, the sum over N reduces to :\n",
    "\\begin{equation}\n",
    " \\sigma^2 = 0*P(N=0)+1*P(N=1)\n",
    "\\end{equation}\n",
    "\n",
    "where $P(N(R)=1)$ is given by the ratio between the area of the circle of radius $R$ ($R<1$) and the area of a lattice cell (which in our case is unity). The variance becomes: \n",
    "\\begin{equation}\n",
    " \\sigma^2 = \\pi*R^2-(\\pi*R^2)^2\n",
    "\\end{equation}\n",
    "\n",
    "Being the last term negligible for small $R$, the last equation explains why $\\frac{\\sigma^2}{R^2}$ goes to a constant at short distance"
   ]
  },
  {
   "cell_type": "markdown",
   "id": "465b5ac2",
   "metadata": {},
   "source": [
    "In order to understand why the curve oscillate we can think at the simplest case, when the center of the observed circle corresponds to a site of the lattice. Let's distinguish the 2 behaviours determining the oscillation, starting from a maximum of the curve: the decreasing and the subsequent increasing of $\\frac{\\sigma^2}{R^2}$ for a small increase of R.\n",
    "The oscillations of the variance of N(R) with respect to its average value over the different centers $x_0$ has to be understood as a consequence of the behaviour of N(R).\n",
    "In the asymptotical limit at long distances, we know the variance follows an hyperbolic behaviour (linear in the log-log plot) with no oscillations: this is intuitively related to the fact that, for an infinite radius, the precise position of the center we investigate does not matter, since the number of counted particles will always be infinite.\n",
    "So, a source of oscillation should be the finiteness of the region we are observing.\n",
    "Also, thinking about the periodic nature of the oscillating behaviour, we can easily remind of the periodicity of the lattice: this should be the other source of oscillation. Indeed, our system has the intrinsic periodicity of the lattice constant (here unitary), and our intuition is that every time R increases by a quantity a, the rescaled variance completes an oscillation.\n",
    "In order to understand how the presence of this characteristic length affects the count of particles inside a circle, let's visualize the configuration which realises the maximum of N(R) on a single lattice cell: we imagine the arc of the perimeter of the circle is cutting the cell very close to a corner, i.e. a lattice point.\n",
    "But, increasing R, in order for N(R) to increase too, we have to wait the circle reaches the farther two diagonal corners of the cell, which happens after an increase of the order of a: so, N(R) remains constant while R increases, meaning that the ratio diminishes, until the minimum is reached. \n",
    "Then, once R has increased sufficiently for the circle to enclose the other two sites, N(R) will increase and determine the maximum, and so on when a farther cell is reached. \n",
    "Then, we can understand the behaviour of the variance considering that the variation of N(R) reflects itself in \n",
    "Since this behaviour is periodic, the same line of reasoning is valid when the circle is centered in a point different from a site."
   ]
  },
  {
   "cell_type": "markdown",
   "id": "bc2ef197",
   "metadata": {},
   "source": [
    "It is observed that at long distance (big values of $R$) the amplitude of the oscillations of $\\frac{\\sigma^2}{R^2}$ decreases. This occurs since the sudden jumps in the variance (due to the inclusion of new sites within the circle of radius R) increase in amplitude more slowly than R^2.\n"
   ]
  },
  {
   "cell_type": "code",
   "execution_count": null,
   "id": "70973b16",
   "metadata": {},
   "outputs": [],
   "source": []
  }
 ],
 "metadata": {
  "kernelspec": {
   "display_name": "Python 3",
   "language": "python",
   "name": "python3"
  },
  "language_info": {
   "codemirror_mode": {
    "name": "ipython",
    "version": 3
   },
   "file_extension": ".py",
   "mimetype": "text/x-python",
   "name": "python",
   "nbconvert_exporter": "python",
   "pygments_lexer": "ipython3",
   "version": "3.8.8"
  }
 },
 "nbformat": 4,
 "nbformat_minor": 5
}
