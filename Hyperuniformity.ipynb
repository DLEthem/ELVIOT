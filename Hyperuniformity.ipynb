{
 "cells": [
  {
   "cell_type": "code",
   "execution_count": 1,
   "id": "e12a5480",
   "metadata": {},
   "outputs": [],
   "source": [
    "import numpy as np\n",
    "import matplotlib.pyplot as plt\n",
    "from numpy import random"
   ]
  },
  {
   "cell_type": "code",
   "execution_count": 254,
   "id": "e8db4e91",
   "metadata": {},
   "outputs": [],
   "source": [
    "def distance(a,b):                                                                        #calculate the distance between two points\n",
    "    return np.sqrt((a[0]-b[0])**2 + (a[1]-b[1])**2)\n",
    "\n",
    "def create(L):                                                                            #create a matrix of dimension LxL with all ones\n",
    "    M = np.ones(shape=(L,L))\n",
    "    return M\n",
    "\n",
    "def big_matrix(M):                                                                        #create a big matrix 3Lx3L to take PBC into account\n",
    "    M1 = np.hstack((M,M,M))\n",
    "    M2 = np.vstack((M1,M1,M1))\n",
    "    return M2    \n",
    "    \n",
    "def x_0(L):                                                                               #take a random point from the initial matrix\n",
    "    x = random.uniform(L,2*L)\n",
    "    y = random.uniform(L,2*L)\n",
    "    center = [x,y]\n",
    "    return center\n",
    "\n",
    "def small_matrix(M,c,r):\n",
    "    A = M[round(c[0]-r-1):round(c[0]+r+2),round(c[1]-r-1):round(c[1]+r+2)]                #take a small matrix centered in x_0 of \"radius\" r+1\n",
    "    return A\n",
    "\n",
    "def count(small,x,r):                                                                     #count how many points are at a distance <= r from x\n",
    "    n = 0\n",
    "    l = len(small)\n",
    "    c = [round((l+1)/2-1)+(x[0]-round(x[0])),round((l+1)/2-1)+(x[1]-round(x[1]))]\n",
    "    for i in range(l):\n",
    "        for j in range(l):\n",
    "            y = [i,j]\n",
    "            d = distance(y,c)\n",
    "            if d <= r :\n",
    "                n += 1\n",
    "    return n\n",
    "\n",
    "def arr_counts(L,n,R,big):                                                                # L size, n number of random points, R radius,\n",
    "    arr = []                                                                              # big is the big matrix (3*L x 3*L)\n",
    "    for i in range(n):\n",
    "        center = x_0(L)\n",
    "        small = small_matrix(big, center, R)\n",
    "        arr.append(count(small,center,R))\n",
    "    return arr\n",
    "\n",
    "def variance(arr):\n",
    "    mom = np.power(arr,2)\n",
    "    return np.average(mom)-np.power(np.average(arr),2)\n",
    "\n",
    "def create_prova(L):\n",
    "    A = np.arange(L**2).reshape((L, L))\n",
    "    return A\n",
    "\n",
    "def rescaled_variance_size(L):\n",
    "    A = create(L)\n",
    "    B = big_matrix(A)\n",
    "    arr_variance = []\n",
    "    radius = np.linspace(0.01,L/2,num=200)\n",
    "    for r in radius:\n",
    "        arr = arr_counts(L,10000,r,B)\n",
    "        var = variance(arr)\n",
    "        arr_variance.append(var/r**2)   \n",
    "    return arr_variance"
   ]
  },
  {
   "cell_type": "code",
   "execution_count": 232,
   "id": "12d66893",
   "metadata": {},
   "outputs": [
    {
     "data": {
      "text/plain": [
       "array([[ 0,  1,  2,  3,  4,  5,  6,  7,  8,  9,  0,  1,  2,  3,  4,  5,\n",
       "         6,  7,  8,  9,  0,  1,  2,  3,  4,  5,  6,  7,  8,  9],\n",
       "       [10, 11, 12, 13, 14, 15, 16, 17, 18, 19, 10, 11, 12, 13, 14, 15,\n",
       "        16, 17, 18, 19, 10, 11, 12, 13, 14, 15, 16, 17, 18, 19],\n",
       "       [20, 21, 22, 23, 24, 25, 26, 27, 28, 29, 20, 21, 22, 23, 24, 25,\n",
       "        26, 27, 28, 29, 20, 21, 22, 23, 24, 25, 26, 27, 28, 29],\n",
       "       [30, 31, 32, 33, 34, 35, 36, 37, 38, 39, 30, 31, 32, 33, 34, 35,\n",
       "        36, 37, 38, 39, 30, 31, 32, 33, 34, 35, 36, 37, 38, 39],\n",
       "       [40, 41, 42, 43, 44, 45, 46, 47, 48, 49, 40, 41, 42, 43, 44, 45,\n",
       "        46, 47, 48, 49, 40, 41, 42, 43, 44, 45, 46, 47, 48, 49],\n",
       "       [50, 51, 52, 53, 54, 55, 56, 57, 58, 59, 50, 51, 52, 53, 54, 55,\n",
       "        56, 57, 58, 59, 50, 51, 52, 53, 54, 55, 56, 57, 58, 59],\n",
       "       [60, 61, 62, 63, 64, 65, 66, 67, 68, 69, 60, 61, 62, 63, 64, 65,\n",
       "        66, 67, 68, 69, 60, 61, 62, 63, 64, 65, 66, 67, 68, 69],\n",
       "       [70, 71, 72, 73, 74, 75, 76, 77, 78, 79, 70, 71, 72, 73, 74, 75,\n",
       "        76, 77, 78, 79, 70, 71, 72, 73, 74, 75, 76, 77, 78, 79],\n",
       "       [80, 81, 82, 83, 84, 85, 86, 87, 88, 89, 80, 81, 82, 83, 84, 85,\n",
       "        86, 87, 88, 89, 80, 81, 82, 83, 84, 85, 86, 87, 88, 89],\n",
       "       [90, 91, 92, 93, 94, 95, 96, 97, 98, 99, 90, 91, 92, 93, 94, 95,\n",
       "        96, 97, 98, 99, 90, 91, 92, 93, 94, 95, 96, 97, 98, 99],\n",
       "       [ 0,  1,  2,  3,  4,  5,  6,  7,  8,  9,  0,  1,  2,  3,  4,  5,\n",
       "         6,  7,  8,  9,  0,  1,  2,  3,  4,  5,  6,  7,  8,  9],\n",
       "       [10, 11, 12, 13, 14, 15, 16, 17, 18, 19, 10, 11, 12, 13, 14, 15,\n",
       "        16, 17, 18, 19, 10, 11, 12, 13, 14, 15, 16, 17, 18, 19],\n",
       "       [20, 21, 22, 23, 24, 25, 26, 27, 28, 29, 20, 21, 22, 23, 24, 25,\n",
       "        26, 27, 28, 29, 20, 21, 22, 23, 24, 25, 26, 27, 28, 29],\n",
       "       [30, 31, 32, 33, 34, 35, 36, 37, 38, 39, 30, 31, 32, 33, 34, 35,\n",
       "        36, 37, 38, 39, 30, 31, 32, 33, 34, 35, 36, 37, 38, 39],\n",
       "       [40, 41, 42, 43, 44, 45, 46, 47, 48, 49, 40, 41, 42, 43, 44, 45,\n",
       "        46, 47, 48, 49, 40, 41, 42, 43, 44, 45, 46, 47, 48, 49],\n",
       "       [50, 51, 52, 53, 54, 55, 56, 57, 58, 59, 50, 51, 52, 53, 54, 55,\n",
       "        56, 57, 58, 59, 50, 51, 52, 53, 54, 55, 56, 57, 58, 59],\n",
       "       [60, 61, 62, 63, 64, 65, 66, 67, 68, 69, 60, 61, 62, 63, 64, 65,\n",
       "        66, 67, 68, 69, 60, 61, 62, 63, 64, 65, 66, 67, 68, 69],\n",
       "       [70, 71, 72, 73, 74, 75, 76, 77, 78, 79, 70, 71, 72, 73, 74, 75,\n",
       "        76, 77, 78, 79, 70, 71, 72, 73, 74, 75, 76, 77, 78, 79],\n",
       "       [80, 81, 82, 83, 84, 85, 86, 87, 88, 89, 80, 81, 82, 83, 84, 85,\n",
       "        86, 87, 88, 89, 80, 81, 82, 83, 84, 85, 86, 87, 88, 89],\n",
       "       [90, 91, 92, 93, 94, 95, 96, 97, 98, 99, 90, 91, 92, 93, 94, 95,\n",
       "        96, 97, 98, 99, 90, 91, 92, 93, 94, 95, 96, 97, 98, 99],\n",
       "       [ 0,  1,  2,  3,  4,  5,  6,  7,  8,  9,  0,  1,  2,  3,  4,  5,\n",
       "         6,  7,  8,  9,  0,  1,  2,  3,  4,  5,  6,  7,  8,  9],\n",
       "       [10, 11, 12, 13, 14, 15, 16, 17, 18, 19, 10, 11, 12, 13, 14, 15,\n",
       "        16, 17, 18, 19, 10, 11, 12, 13, 14, 15, 16, 17, 18, 19],\n",
       "       [20, 21, 22, 23, 24, 25, 26, 27, 28, 29, 20, 21, 22, 23, 24, 25,\n",
       "        26, 27, 28, 29, 20, 21, 22, 23, 24, 25, 26, 27, 28, 29],\n",
       "       [30, 31, 32, 33, 34, 35, 36, 37, 38, 39, 30, 31, 32, 33, 34, 35,\n",
       "        36, 37, 38, 39, 30, 31, 32, 33, 34, 35, 36, 37, 38, 39],\n",
       "       [40, 41, 42, 43, 44, 45, 46, 47, 48, 49, 40, 41, 42, 43, 44, 45,\n",
       "        46, 47, 48, 49, 40, 41, 42, 43, 44, 45, 46, 47, 48, 49],\n",
       "       [50, 51, 52, 53, 54, 55, 56, 57, 58, 59, 50, 51, 52, 53, 54, 55,\n",
       "        56, 57, 58, 59, 50, 51, 52, 53, 54, 55, 56, 57, 58, 59],\n",
       "       [60, 61, 62, 63, 64, 65, 66, 67, 68, 69, 60, 61, 62, 63, 64, 65,\n",
       "        66, 67, 68, 69, 60, 61, 62, 63, 64, 65, 66, 67, 68, 69],\n",
       "       [70, 71, 72, 73, 74, 75, 76, 77, 78, 79, 70, 71, 72, 73, 74, 75,\n",
       "        76, 77, 78, 79, 70, 71, 72, 73, 74, 75, 76, 77, 78, 79],\n",
       "       [80, 81, 82, 83, 84, 85, 86, 87, 88, 89, 80, 81, 82, 83, 84, 85,\n",
       "        86, 87, 88, 89, 80, 81, 82, 83, 84, 85, 86, 87, 88, 89],\n",
       "       [90, 91, 92, 93, 94, 95, 96, 97, 98, 99, 90, 91, 92, 93, 94, 95,\n",
       "        96, 97, 98, 99, 90, 91, 92, 93, 94, 95, 96, 97, 98, 99]])"
      ]
     },
     "execution_count": 232,
     "metadata": {},
     "output_type": "execute_result"
    }
   ],
   "source": [
    "#debug\n",
    "L = 10\n",
    "A = create(L)\n",
    "B = big_matrix(A)"
   ]
  },
  {
   "cell_type": "code",
   "execution_count": 235,
   "id": "7169468c",
   "metadata": {},
   "outputs": [
    {
     "name": "stdout",
     "output_type": "stream",
     "text": [
      "[[19 10 11 12 13]\n",
      " [29 20 21 22 23]\n",
      " [39 30 31 32 33]\n",
      " [49 40 41 42 43]\n",
      " [59 50 51 52 53]]\n",
      "[13.353481964751328, 10.816616037466302]\n",
      "2.353481964751328 1.8166160374663018\n",
      "0.4739203899999982\n"
     ]
    }
   ],
   "source": [
    "c = x_0(L)\n",
    "r = 1\n",
    "S = small_matrix(B,c,r)\n",
    "l = len(S)\n",
    "print(S)\n",
    "#print(S[c,c])\n",
    "#count(S,r)\n",
    "arr = arr_counts(L,10000,r,B)\n",
    "print(variance(arr))"
   ]
  },
  {
   "cell_type": "code",
   "execution_count": null,
   "id": "72ea76ea-c37a-4727-aec4-ded1b831241b",
   "metadata": {},
   "outputs": [],
   "source": [
    "L = [50,100,200]\n",
    "for size in L:\n",
    "    x = []\n",
    "    x = rescaled_variance_size(size)\n",
    "    plt.plot(x, label = 'L = $size')\n",
    "    plt.xscale('log')\n",
    "    plt.yscale('log')\n",
    "plt.legend()\n",
    "plt.show()"
   ]
  },
  {
   "cell_type": "code",
   "execution_count": null,
   "id": "fb4e0b0f-b02b-4960-ad31-376c94290920",
   "metadata": {},
   "outputs": [],
   "source": []
  }
 ],
 "metadata": {
  "kernelspec": {
   "display_name": "Python 3",
   "language": "python",
   "name": "python3"
  },
  "language_info": {
   "codemirror_mode": {
    "name": "ipython",
    "version": 3
   },
   "file_extension": ".py",
   "mimetype": "text/x-python",
   "name": "python",
   "nbconvert_exporter": "python",
   "pygments_lexer": "ipython3",
   "version": "3.8.8"
  }
 },
 "nbformat": 4,
 "nbformat_minor": 5
}
