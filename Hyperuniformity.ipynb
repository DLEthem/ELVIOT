{
 "cells": [
  {
   "cell_type": "code",
   "execution_count": 1,
   "id": "e12a5480",
   "metadata": {},
   "outputs": [],
   "source": [
    "import numpy as np\n",
    "import matplotlib.pyplot as plt\n",
    "from numpy import random"
   ]
  },
  {
   "cell_type": "code",
   "execution_count": 166,
   "id": "e8db4e91",
   "metadata": {},
   "outputs": [],
   "source": [
    "def distance(a,b):\n",
    "    return np.sqrt((a[0]-b[0])**2 + (a[1]-b[1])**2)\n",
    "\n",
    "def create(size):\n",
    "    M = np.ones(shape=(size,size))\n",
    "    return M\n",
    "\n",
    "def big_matrix(M):                                 #warning: can be used just for the initialization, not when we introduce displacements\n",
    "    A = np.ones(shape=(2*len(M),2*len(M)))\n",
    "    return A\n",
    "'''\n",
    "def big_matrix_general(M):\n",
    "    l = len(M)\n",
    "    A = [][2*l]\n",
    "    while i < 2*l-1:\n",
    "        while j < l/4 :\n",
    "            A[i][j] = M[]\n",
    "'''       \n",
    "    \n",
    "def x_0(size):\n",
    "    x = random.uniform(L/2,3*L/2)\n",
    "    y = random.uniform(L/2,3*L/2)\n",
    "    center = [x,y]\n",
    "    return center\n",
    "\n",
    "def small_matrix(M,c,r):\n",
    "    A = M[int(c[1]-r):int(c[1]+r+1),int(c[0]-r-1):int(c[0]+r)]\n",
    "    return A\n",
    "\n",
    "def count(small,r):   #check this\n",
    "    n = 0\n",
    "    l = len(small)\n",
    "    c = [(l+1)/2,(l+1)/2]\n",
    "    for i in range(l):\n",
    "        for j in range(l):\n",
    "            x = [i,j]\n",
    "            d = distance(x,c)\n",
    "            if d <= r :\n",
    "                n += 1\n",
    "    return n\n",
    "\n",
    "def arr_counts(size,n,R,big):\n",
    "    arr = []\n",
    "    for i in range(n):\n",
    "        center = x_0(size)\n",
    "        small = small_matrix(big, center, R)\n",
    "        arr.append(count(small,center,R))\n",
    "    return arr\n",
    "\n",
    "def variance(arr_counts):\n",
    "    mom = np.power(arr_counts,2)\n",
    "    return np.average(mom)-np.average(arr_counts)**2\n",
    "\n",
    "def create_prova(L):\n",
    "    A = np.arange(L**2).reshape((L, L))\n",
    "    return A"
   ]
  },
  {
   "cell_type": "code",
   "execution_count": 185,
   "id": "12d66893",
   "metadata": {},
   "outputs": [
    {
     "name": "stdout",
     "output_type": "stream",
     "text": [
      "[14.23823860410746, 7.305681140488602]\n"
     ]
    },
    {
     "data": {
      "text/plain": [
       "array([[ 0,  1,  2,  3,  4,  5,  6,  7,  8,  9],\n",
       "       [10, 11, 12, 13, 14, 15, 16, 17, 18, 19],\n",
       "       [20, 21, 22, 23, 24, 25, 26, 27, 28, 29],\n",
       "       [30, 31, 32, 33, 34, 35, 36, 37, 38, 39],\n",
       "       [40, 41, 42, 43, 44, 45, 46, 47, 48, 49],\n",
       "       [50, 51, 52, 53, 54, 55, 56, 57, 58, 59],\n",
       "       [60, 61, 62, 63, 64, 65, 66, 67, 68, 69],\n",
       "       [70, 71, 72, 73, 74, 75, 76, 77, 78, 79],\n",
       "       [80, 81, 82, 83, 84, 85, 86, 87, 88, 89],\n",
       "       [90, 91, 92, 93, 94, 95, 96, 97, 98, 99]])"
      ]
     },
     "execution_count": 185,
     "metadata": {},
     "output_type": "execute_result"
    }
   ],
   "source": [
    "#debug\n",
    "L = 10\n",
    "A = create_prova(L)\n",
    "B = big_matrix(A)\n",
    "point = x_0(L)\n",
    "print(point)\n",
    "A"
   ]
  },
  {
   "cell_type": "code",
   "execution_count": 188,
   "id": "7169468c",
   "metadata": {},
   "outputs": [
    {
     "name": "stdout",
     "output_type": "stream",
     "text": [
      "[[1. 1. 1. 1. 1. 1. 1. 1. 1. 1. 1.]\n",
      " [1. 1. 1. 1. 1. 1. 1. 1. 1. 1. 1.]\n",
      " [1. 1. 1. 1. 1. 1. 1. 1. 1. 1. 1.]\n",
      " [1. 1. 1. 1. 1. 1. 1. 1. 1. 1. 1.]\n",
      " [1. 1. 1. 1. 1. 1. 1. 1. 1. 1. 1.]\n",
      " [1. 1. 1. 1. 1. 1. 1. 1. 1. 1. 1.]\n",
      " [1. 1. 1. 1. 1. 1. 1. 1. 1. 1. 1.]\n",
      " [1. 1. 1. 1. 1. 1. 1. 1. 1. 1. 1.]\n",
      " [1. 1. 1. 1. 1. 1. 1. 1. 1. 1. 1.]\n",
      " [1. 1. 1. 1. 1. 1. 1. 1. 1. 1. 1.]\n",
      " [1. 1. 1. 1. 1. 1. 1. 1. 1. 1. 1.]]\n"
     ]
    },
    {
     "data": {
      "text/plain": [
       "79"
      ]
     },
     "execution_count": 188,
     "metadata": {},
     "output_type": "execute_result"
    }
   ],
   "source": [
    "#dovrebbe prendere da 31 a 75\n",
    "#c = [5,5]\n",
    "r = 5\n",
    "S = small_matrix(B,point,r)\n",
    "print(S)\n",
    "count(S,r)"
   ]
  },
  {
   "cell_type": "markdown",
   "id": "d7b4a62a",
   "metadata": {
    "scrolled": true
   },
   "source": [
    "L = 10\n",
    "M = create(L)\n",
    "big = big_matrix(L,M)\n",
    "plt.figure(figsize=(5, 5))\n",
    "plt.spy(big, markersize=10, marker = '.')"
   ]
  },
  {
   "cell_type": "code",
   "execution_count": null,
   "id": "00125033",
   "metadata": {
    "scrolled": true
   },
   "outputs": [],
   "source": [
    "center = x_0(L)\n",
    "print(center)\n",
    "r = 3\n",
    "#count(small,center,r)\n",
    "x = arr_counts(L,1000,r,big)\n",
    "plt.plot(x)"
   ]
  },
  {
   "cell_type": "code",
   "execution_count": null,
   "id": "889884e0",
   "metadata": {},
   "outputs": [],
   "source": [
    "c = x_0(L)\n",
    "print(c)\n",
    "small = small_matrix(big, c, r)\n",
    "print(small)\n",
    "print(len(small[0]))\n",
    "count(small,c,r)"
   ]
  },
  {
   "cell_type": "code",
   "execution_count": null,
   "id": "d7f0186b",
   "metadata": {},
   "outputs": [],
   "source": []
  }
 ],
 "metadata": {
  "kernelspec": {
   "display_name": "Python 3",
   "language": "python",
   "name": "python3"
  },
  "language_info": {
   "codemirror_mode": {
    "name": "ipython",
    "version": 3
   },
   "file_extension": ".py",
   "mimetype": "text/x-python",
   "name": "python",
   "nbconvert_exporter": "python",
   "pygments_lexer": "ipython3",
   "version": "3.8.8"
  }
 },
 "nbformat": 4,
 "nbformat_minor": 5
}
