{
 "cells": [
  {
   "cell_type": "code",
   "execution_count": 225,
   "id": "e12a5480",
   "metadata": {},
   "outputs": [],
   "source": [
    "import numpy as np\n",
    "import matplotlib.pyplot as plt\n",
    "from numpy import random"
   ]
  },
  {
   "cell_type": "code",
   "execution_count": 260,
   "id": "cd83d8bf",
   "metadata": {},
   "outputs": [],
   "source": [
    "def distance(a,b):\n",
    "    return np.sqrt((a[0]-b[0])**2 + (a[1]-b[1])**2)\n",
    "\n",
    "def create(size):\n",
    "    M = np.ones(shape=(size,size))\n",
    "    return M\n",
    "\n",
    "def big_matrix(size,M):\n",
    "    A = np.ones(shape=(2*L,2*L))\n",
    "    return A\n",
    "\n",
    "def x_0(size):\n",
    "    x = random.rand()*(L-1)+(L/2)\n",
    "    y = random.rand()*(L-1)+(L/2)\n",
    "    center = [x,y]\n",
    "    return center\n",
    "\n",
    "def small_matrix(M,c,r):\n",
    "    A = M[int(c[0]-r-1):int(c[0]+r+1),int(c[1]-r-1):int(c[1]+r+1)]     #check\n",
    "    return A\n",
    "\n",
    "def count(small,c,r):   #check this\n",
    "    n = 0\n",
    "    for i in range(len(small[0])):\n",
    "        for j in range(len(small[1])):\n",
    "            x = [i,j]\n",
    "            d = distance(x,c)\n",
    "            if d <= r :\n",
    "                    n += 1\n",
    "    return n\n",
    "\n",
    "def arr_counts(size,n,R,big):\n",
    "    arr = []\n",
    "    for i in range(n):\n",
    "        center = x_0(size)\n",
    "        small = small_matrix(big, center, R)\n",
    "        arr.append(count(small,center,R))\n",
    "    return arr\n",
    "\n",
    "def variance(arr_counts):\n",
    "    mom = np.power(arr_counts,2)\n",
    "    return np.average(mom)-np.average(arr_counts)**2"
   ]
  },
  {
   "cell_type": "code",
   "execution_count": 261,
   "id": "40e49df9",
   "metadata": {
    "scrolled": true
   },
   "outputs": [
    {
     "data": {
      "text/plain": [
       "<matplotlib.lines.Line2D at 0x2c723f402b0>"
      ]
     },
     "execution_count": 261,
     "metadata": {},
     "output_type": "execute_result"
    },
    {
     "data": {
      "image/png": "[encoded data removed]",
      "text/plain": [
       "<Figure size 360x360 with 1 Axes>"
      ]
     },
     "metadata": {
      "needs_background": "light"
     },
     "output_type": "display_data"
    }
   ],
   "source": [
    "L = 10\n",
    "M = create(L)\n",
    "big = big_matrix(L,M)\n",
    "plt.figure(figsize=(5, 5))\n",
    "plt.spy(big, markersize=10, marker = '.')"
   ]
  },
  {
   "cell_type": "code",
   "execution_count": 262,
   "id": "00125033",
   "metadata": {
    "scrolled": true
   },
   "outputs": [
    {
     "name": "stdout",
     "output_type": "stream",
     "text": [
      "[13.277495808263597, 11.603855823849088]\n"
     ]
    },
    {
     "data": {
      "text/plain": [
       "[<matplotlib.lines.Line2D at 0x2c7218c5af0>]"
      ]
     },
     "execution_count": 262,
     "metadata": {},
     "output_type": "execute_result"
    },
    {
     "data": {
      "image/png": "[encoded data removed]",
      "text/plain": [
       "<Figure size 432x288 with 1 Axes>"
      ]
     },
     "metadata": {
      "needs_background": "light"
     },
     "output_type": "display_data"
    }
   ],
   "source": [
    "center = x_0(L)\n",
    "print(center)\n",
    "r = 3\n",
    "#count(small,center,r)\n",
    "x = arr_counts(L,1000,r,big)\n",
    "plt.plot(x)"
   ]
  },
  {
   "cell_type": "code",
   "execution_count": 269,
   "id": "7a78b546",
   "metadata": {},
   "outputs": [
    {
     "name": "stdout",
     "output_type": "stream",
     "text": [
      "[11.712748001262593, 12.688681232797443]\n",
      "[[1. 1. 1. 1. 1. 1. 1. 1.]\n",
      " [1. 1. 1. 1. 1. 1. 1. 1.]\n",
      " [1. 1. 1. 1. 1. 1. 1. 1.]\n",
      " [1. 1. 1. 1. 1. 1. 1. 1.]\n",
      " [1. 1. 1. 1. 1. 1. 1. 1.]\n",
      " [1. 1. 1. 1. 1. 1. 1. 1.]\n",
      " [1. 1. 1. 1. 1. 1. 1. 1.]\n",
      " [1. 1. 1. 1. 1. 1. 1. 1.]]\n",
      "8\n"
     ]
    },
    {
     "data": {
      "text/plain": [
       "0"
      ]
     },
     "execution_count": 269,
     "metadata": {},
     "output_type": "execute_result"
    }
   ],
   "source": [
    "c = x_0(L)\n",
    "print(c)\n",
    "small = small_matrix(big, c, r)\n",
    "print(small)\n",
    "print(len(small[0]))\n",
    "count(small,c,r)"
   ]
  },
  {
   "cell_type": "code",
   "execution_count": null,
   "id": "5b2f5816",
   "metadata": {},
   "outputs": [],
   "source": []
  }
 ],
 "metadata": {
  "kernelspec": {
   "display_name": "Python 3",
   "language": "python",
   "name": "python3"
  },
  "language_info": {
   "codemirror_mode": {
    "name": "ipython",
    "version": 3
   },
   "file_extension": ".py",
   "mimetype": "text/x-python",
   "name": "python",
   "nbconvert_exporter": "python",
   "pygments_lexer": "ipython3",
   "version": "3.8.8"
  }
 },
 "nbformat": 4,
 "nbformat_minor": 5
}
