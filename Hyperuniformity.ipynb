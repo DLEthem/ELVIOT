{
 "cells": [
  {
   "cell_type": "code",
   "execution_count": 81,
   "id": "2225b1c7",
   "metadata": {},
   "outputs": [],
   "source": [
    "import numpy as np\n",
    "import matplotlib.pyplot as plt\n",
    "from numpy import random"
   ]
  },
  {
   "cell_type": "code",
   "execution_count": 147,
   "id": "1c2d4def",
   "metadata": {},
   "outputs": [],
   "source": [
    "def create(size):\n",
    "    M = np.ones(shape=(size,size))\n",
    "    return M\n",
    "\n",
    "def big_matrix(size,M):\n",
    "    A = np.ones(shape=(2*L,2*L))\n",
    "    return A\n",
    "\n",
    "def x_0(size):\n",
    "    x = random.rand()*(L-1)+(L/2)\n",
    "    y = random.rand()*(L-1)+(L/2)\n",
    "    center = [x,y]\n",
    "    return center\n",
    "\n",
    "def small_matrix(M,c,r):\n",
    "    A = M[int(c[0]-r-1):int(c[0]+r+1),int(c[1]-r-1):int(c[1]+r+1)]\n",
    "    return A\n",
    "\n",
    "def count(small,c,r):\n",
    "    for i in len(small[0]):\n",
    "        for j in len(small[1]):\n",
    "            "
   ]
  },
  {
   "cell_type": "code",
   "execution_count": 148,
   "id": "4a10da73",
   "metadata": {
    "scrolled": true
   },
   "outputs": [
    {
     "data": {
      "text/plain": [
       "<matplotlib.lines.Line2D at 0x2c7200f30a0>"
      ]
     },
     "execution_count": 148,
     "metadata": {},
     "output_type": "execute_result"
    },
    {
     "data": {
      "image/png": "[encoded data removed]",
      "text/plain": [
       "<Figure size 360x360 with 1 Axes>"
      ]
     },
     "metadata": {
      "needs_background": "light"
     },
     "output_type": "display_data"
    }
   ],
   "source": [
    "L = 10\n",
    "M = create(L)\n",
    "big = big_matrix(L,M)\n",
    "plt.figure(figsize=(5, 5))\n",
    "plt.spy(M, markersize=10, marker = '.')"
   ]
  },
  {
   "cell_type": "code",
   "execution_count": 152,
   "id": "6fb0658f",
   "metadata": {},
   "outputs": [
    {
     "data": {
      "text/plain": [
       "array([[1., 1., 1., 1.],\n",
       "       [1., 1., 1., 1.],\n",
       "       [1., 1., 1., 1.],\n",
       "       [1., 1., 1., 1.]])"
      ]
     },
     "execution_count": 152,
     "metadata": {},
     "output_type": "execute_result"
    }
   ],
   "source": [
    "center = x_0(L)\n",
    "r = 1\n",
    "small = small_matrix(big, center, r)\n",
    "small"
   ]
  },
  {
   "cell_type": "code",
   "execution_count": null,
   "id": "4250ad22",
   "metadata": {},
   "outputs": [],
   "source": []
  },
  {
   "cell_type": "code",
   "execution_count": null,
   "id": "8c277e90",
   "metadata": {},
   "outputs": [],
   "source": []
  }
 ],
 "metadata": {
  "kernelspec": {
   "display_name": "Python 3",
   "language": "python",
   "name": "python3"
  },
  "language_info": {
   "codemirror_mode": {
    "name": "ipython",
    "version": 3
   },
   "file_extension": ".py",
   "mimetype": "text/x-python",
   "name": "python",
   "nbconvert_exporter": "python",
   "pygments_lexer": "ipython3",
   "version": "3.8.8"
  }
 },
 "nbformat": 4,
 "nbformat_minor": 5
}
