{
 "cells": [
  {
   "cell_type": "code",
   "execution_count": 109,
   "id": "05e09453",
   "metadata": {},
   "outputs": [],
   "source": [
    "import numpy as np\n",
    "import matplotlib.pyplot as plt\n",
    "from numpy import random"
   ]
  },
  {
   "cell_type": "code",
   "execution_count": 110,
   "id": "27c54b4a",
   "metadata": {},
   "outputs": [],
   "source": [
    "#create a matrix of size L*L\n",
    "def create(L) :\n",
    "    return [[x_0,x_1] for x_0 in range(2*L) for x_1 in range(2*L)]"
   ]
  },
  {
   "cell_type": "code",
   "execution_count": 111,
   "id": "5d8a1ac5",
   "metadata": {},
   "outputs": [],
   "source": [
    "#array of all distances between a center and the other points of the matrix\n",
    "def distance(x_0,matrix,L):\n",
    "    x = [sites[0] for sites in matrix]\n",
    "    y = [sites[1] for sites in matrix]\n",
    "    delta_x = [abs(x_0[0]-i) for i in x]\n",
    "    delta_y = [abs(x_0[1]-j) for j in y]\n",
    "    arr_dist = [(delta_x[i]**2 + delta_y[i]**2)**(1/2) for i in range(len(delta_x))]\n",
    "    return arr_dist"
   ]
  },
  {
   "cell_type": "code",
   "execution_count": 112,
   "id": "ba0b6107",
   "metadata": {},
   "outputs": [],
   "source": [
    "# List of radii\n",
    "def radii(L, steps):\n",
    "    radius = np.linspace(0.01,L/2,num=steps)\n",
    "    return radius"
   ]
  },
  {
   "cell_type": "code",
   "execution_count": 113,
   "id": "08a0b1f6",
   "metadata": {},
   "outputs": [],
   "source": [
    "# choose a center randomly in the original matrix\n",
    "def x_0(L):                                                                               #take a random point from the initial matrix\n",
    "    x = random.uniform(int(L/2),int(3*L/2))\n",
    "    y = random.uniform(int(L/2),int(3*L/2))\n",
    "    center = [x,y]\n",
    "    return center"
   ]
  },
  {
   "cell_type": "code",
   "execution_count": 140,
   "id": "ee18a044",
   "metadata": {},
   "outputs": [],
   "source": [
    "def count(x_0,mat,radius): #count how many points are at a distance <= r from x\n",
    "    L = len(mat)\n",
    "    dist = distance(x_0,mat,L)\n",
    "    dist.sort()\n",
    "    d = np.array(dist)\n",
    "    counts = []\n",
    "    for R in radius:\n",
    "        count_R = np.count_nonzero(d <= R)\n",
    "        counts.append(count_R)\n",
    "    #print(counts)\n",
    "    return counts\n",
    "\n",
    "def vec_x0(L,n):\n",
    "    v = [x_0(L) for i in range(n)]\n",
    "    return v\n",
    "\n",
    "def arr_counts(L,n,radius,mat):\n",
    "    v = vec_x0(L,n)\n",
    "    arr = [count(x0,mat,radius) for x0 in v]\n",
    "    return arr"
   ]
  },
  {
   "cell_type": "code",
   "execution_count": 184,
   "id": "436432b9",
   "metadata": {},
   "outputs": [],
   "source": [
    "def variance(L,n,radius,mat):\n",
    "    arr = arr_counts(L,n,radius,mat)\n",
    "    m = np.array(arr)\n",
    "    arr_var = []\n",
    "    for i in range(len(radius)):\n",
    "        mom = np.power(m[:,i],2)\n",
    "        var = (np.average(mom)-np.power(np.average(m[:,i]),2))/radius[i]**2\n",
    "        arr_var.append(var)\n",
    "    return arr_var"
   ]
  },
  {
   "cell_type": "code",
   "execution_count": 185,
   "id": "208c86c8",
   "metadata": {},
   "outputs": [],
   "source": [
    "def rescaled_var(L,steps,n,mat):\n",
    "    R = radii(L,steps)\n",
    "    arr_var = [(variance(L,n,r,mat)/pow(r,2)) for r in R]\n",
    "    return arr_var"
   ]
  },
  {
   "cell_type": "code",
   "execution_count": 193,
   "id": "56286d9e",
   "metadata": {},
   "outputs": [],
   "source": [
    "L = 50\n",
    "a = create(L)\n",
    "radius = radii(L,200)\n",
    "#x = np.array(arr_counts(L,1000,radius,a))\n",
    "x[:,199]\n",
    "y = variance(L,1000,radius,a)"
   ]
  },
  {
   "cell_type": "code",
   "execution_count": 194,
   "id": "25bc7f54",
   "metadata": {},
   "outputs": [
    {
     "data": {
      "image/png": "[encoded data removed]",
      "text/plain": [
       "<Figure size 432x288 with 1 Axes>"
      ]
     },
     "metadata": {
      "needs_background": "light"
     },
     "output_type": "display_data"
    }
   ],
   "source": [
    "plt.plot(radii(L,200),y)\n",
    "plt.xscale('log')\n",
    "plt.yscale('log')"
   ]
  },
  {
   "cell_type": "code",
   "execution_count": null,
   "id": "0b4f2541",
   "metadata": {},
   "outputs": [],
   "source": [
    "size = [50,100,200]\n",
    "for i in range(len(size)):\n",
    "    a = create(size[i])\n",
    "    radius = radii(size[i],200)\n",
    "    arrays_var[i] = variance(size[i],1000,radius,a)\n",
    "    plt.plot(radius, arrays_var[i], label = 'L =' + str(size[i]))\n",
    "    plt.xscale('log')\n",
    "    plt.yscale('log')\n",
    "plt.legend()\n",
    "plt.show()"
   ]
  },
  {
   "cell_type": "code",
   "execution_count": null,
   "id": "db6eac86",
   "metadata": {},
   "outputs": [],
   "source": []
  },
  {
   "cell_type": "code",
   "execution_count": null,
   "id": "f3e5de33",
   "metadata": {},
   "outputs": [],
   "source": []
  }
 ],
 "metadata": {
  "kernelspec": {
   "display_name": "Python 3",
   "language": "python",
   "name": "python3"
  },
  "language_info": {
   "codemirror_mode": {
    "name": "ipython",
    "version": 3
   },
   "file_extension": ".py",
   "mimetype": "text/x-python",
   "name": "python",
   "nbconvert_exporter": "python",
   "pygments_lexer": "ipython3",
   "version": "3.8.8"
  }
 },
 "nbformat": 4,
 "nbformat_minor": 5
}
