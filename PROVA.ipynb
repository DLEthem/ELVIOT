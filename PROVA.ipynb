{
 "cells": [
  {
   "cell_type": "markdown",
   "id": "03a64870",
   "metadata": {},
   "source": [
    "\n",
    "# HYPERUNIFORMITY NUMERICAL PROJECT #\n",
    "Monroy Merida Diana Laura, Candellone Elena, Ghivarello Sara, Pierannunzi Elena  "
   ]
  },
  {
   "cell_type": "code",
   "execution_count": 27,
   "id": "05e09453",
   "metadata": {},
   "outputs": [],
   "source": [
    "#import useful packages\n",
    "import numpy as np\n",
    "import matplotlib.pyplot as plt\n",
    "from numpy import random\n",
    "import time"
   ]
  },
  {
   "cell_type": "markdown",
   "id": "a1c8aab5",
   "metadata": {},
   "source": [
    "# Matrix generation\n",
    "generate a matrix of size 2L x 2L (our matrix L x L with an outer shell that is needed in order to take into account PBC)\n",
    "\n",
    "the matrix is constucted in such a way that in every position there are the coordinates of the particle\n",
    "\n",
    "EXAMPLE for L = 1:\n",
    "\n",
    "$$ a = create(1) =  \\begin{bmatrix}\n",
    "[0,0] & [0,1] \\\\\n",
    "[1,0] & [1,1] \n",
    "\\end{bmatrix}  $$"
   ]
  },
  {
   "cell_type": "code",
   "execution_count": 28,
   "id": "27c54b4a",
   "metadata": {},
   "outputs": [],
   "source": [
    "def create(L) :\n",
    "    return [[x_0,x_1] for x_0 in range(2*L) for x_1 in range(2*L)]"
   ]
  },
  {
   "cell_type": "markdown",
   "id": "4d0dafd5",
   "metadata": {},
   "source": [
    "# Distance between patricles\n",
    "\n",
    "Takes a point $x_0$ and a matrix. Returns an array that contains the distances between all points of the matrix and $x_0$.\n",
    "\n",
    "i.e. $$ arr\\_dist = [distance(x_0,x_1),distance(x_0,x_2) ...]$$"
   ]
  },
  {
   "cell_type": "code",
   "execution_count": 29,
   "id": "5d8a1ac5",
   "metadata": {},
   "outputs": [],
   "source": [
    "def distance(x_0,matrix):\n",
    "#arrays with all x and y coordinates of matrix elements\n",
    "    x = [sites[0] for sites in matrix]\n",
    "    y = [sites[1] for sites in matrix]\n",
    "    delta_x = [abs(x_0[0]-i) for i in x]\n",
    "    delta_y = [abs(x_0[1]-j) for j in y]\n",
    "#store all the distances into an array\n",
    "    arr_dist = [(delta_x[i]**2 + delta_y[i]**2)**(1/2) for i in range(len(delta_x))]\n",
    "    return arr_dist"
   ]
  },
  {
   "cell_type": "markdown",
   "id": "4235b788",
   "metadata": {},
   "source": [
    "# Radii generation\n",
    "Generate an array, given the size of the matrix L and the number of steps, with\n",
    "\n",
    "$$ \\{r\\} \\mid r \\in [0.1,L/2] $$ with a certain number of values (steps)"
   ]
  },
  {
   "cell_type": "code",
   "execution_count": 30,
   "id": "ba0b6107",
   "metadata": {},
   "outputs": [],
   "source": [
    "def radii(L, steps):\n",
    "    radius = np.linspace(0.1,L/2,num=steps)\n",
    "    return radius"
   ]
  },
  {
   "cell_type": "markdown",
   "id": "82fbdd76",
   "metadata": {},
   "source": [
    "# Center random generation\n",
    "Choose randomly a center $x_0$ inside the matrix of size L x L\n",
    "\n",
    "Generate an array with n values of $x_0$"
   ]
  },
  {
   "cell_type": "code",
   "execution_count": 31,
   "id": "08a0b1f6",
   "metadata": {},
   "outputs": [],
   "source": [
    "def x_0(L):                                                                              \n",
    "    x = random.uniform(round(L/2),round(3*L/2))\n",
    "    y = random.uniform(round(L/2),round(3*L/2))\n",
    "    center = [x,y]\n",
    "    return center\n",
    "\n",
    "def vec_x0(L,n):\n",
    "    v = [x_0(L) for i in range(n)]\n",
    "    return v"
   ]
  },
  {
   "cell_type": "markdown",
   "id": "810541b3",
   "metadata": {},
   "source": [
    "# Count the neighbours\n",
    "This function counts how many particles are into a certain distance from the center $x_0$.\n",
    "\n",
    "In particular, we give as a parameter an array of radii and we store in the array counts all the countings for each radius.\n",
    "i.e. $$count = [ count\\_R(r1), count\\_R(r2) ... ]$$"
   ]
  },
  {
   "cell_type": "code",
   "execution_count": 32,
   "id": "ee18a044",
   "metadata": {},
   "outputs": [],
   "source": [
    "def count(x_0,mat,radius):\n",
    "    L = len(mat)\n",
    "    dist = distance(x_0,mat)\n",
    "    #dist.sort()\n",
    "    d = np.array(dist)\n",
    "    counts = []\n",
    "    for R in radius:\n",
    "        count_R = np.count_nonzero(d <= R)\n",
    "        counts.append(count_R)\n",
    "    return counts"
   ]
  },
  {
   "cell_type": "markdown",
   "id": "e5ddcfec",
   "metadata": {},
   "source": [
    "Generate an matrix (array of arrays) with the countings for each value of x_0 (take n of them).\n",
    "The matrix will have rows determined by $\\{x_0\\}$ and columns determined by $\\{R\\}$"
   ]
  },
  {
   "cell_type": "code",
   "execution_count": 33,
   "id": "8dfb4e06",
   "metadata": {},
   "outputs": [],
   "source": [
    "def arr_counts(L,n,radius,mat):\n",
    "    v = vec_x0(L,n)\n",
    "    arr = [count(x0,mat,radius) for x0 in v]\n",
    "    return arr"
   ]
  },
  {
   "cell_type": "markdown",
   "id": "bd085e5b",
   "metadata": {},
   "source": [
    "# Calculate the rescaled variance\n",
    "This functions takes the size L, the number n of $x_0$'s, the set of radii and the matrix in order to calculate the rescaled variance $$\\frac{\\sigma(R)^2}{R^2 }= \\frac{\\langle N(R)^2 \\rangle - \\langle N(R) \\rangle^2}{R^2}$$\n",
    "For each size L an array of variances is created."
   ]
  },
  {
   "cell_type": "code",
   "execution_count": 34,
   "id": "436432b9",
   "metadata": {},
   "outputs": [],
   "source": [
    "def variance(L,n,radius,mat):\n",
    "    arr = arr_counts(L,n,radius,mat)\n",
    "    m = np.array(arr)\n",
    "    arr_var = []\n",
    "    for i in range(len(radius)):\n",
    "        mom = np.power(m[:,i],2)\n",
    "        var = (np.average(mom)-np.power(np.average(m[:,i]),2))/radius[i]**2\n",
    "        arr_var.append(var)\n",
    "    return arr_var"
   ]
  },
  {
   "cell_type": "markdown",
   "id": "77130885",
   "metadata": {},
   "source": [
    "# 1.1\n",
    "Write a simple code displaying point particles on a square lattice of linear size L = 10."
   ]
  },
  {
   "cell_type": "code",
   "execution_count": 35,
   "id": "36b8828c",
   "metadata": {},
   "outputs": [
    {
     "data": {
      "image/png": "[encoded data removed]",
      "text/plain": [
       "<Figure size 432x288 with 1 Axes>"
      ]
     },
     "metadata": {
      "needs_background": "light"
     },
     "output_type": "display_data"
    }
   ],
   "source": [
    "L = 10\n",
    "a = create(int(L/2))                      #here I want to show just the L x L matrix, ignoring the outer cell\n",
    "x = [sites[0] for sites in a]\n",
    "y = [sites[1] for sites in a]\n",
    "plt.plot(x,y,'o', color='black', markersize=2)\n",
    "plt.show()"
   ]
  },
  {
   "cell_type": "markdown",
   "id": "170d958a",
   "metadata": {},
   "source": [
    "# 1.2\n",
    "Justify why the maximum distance for measuring the variance is L/2.\n",
    "\n",
    "Calculate the mean variance as a function of r for $L = [50,100,200]$"
   ]
  },
  {
   "cell_type": "code",
   "execution_count": null,
   "id": "1b5ff5b5",
   "metadata": {},
   "outputs": [],
   "source": [
    "start = time.time()\n",
    "size = [50,100,200]\n",
    "arrays_var = []\n",
    "radius = []\n",
    "\n",
    "\n",
    "for i in range(len(size)):\n",
    "    a = create(size[i])\n",
    "    radius.append(radii(size[i],200))\n",
    "    arrays_var.append(variance(size[i],10000,radius[i],a))\n",
    "    \n",
    "    \n",
    "total = time.time()-start"
   ]
  },
  {
   "cell_type": "code",
   "execution_count": null,
   "id": "2ff8185b",
   "metadata": {},
   "outputs": [],
   "source": [
    "print(\"total exectution time\" + str(total) + \"seconds\")"
   ]
  },
  {
   "cell_type": "code",
   "execution_count": null,
   "id": "e34107c0",
   "metadata": {},
   "outputs": [],
   "source": [
    "#plot the results in log-log scale\n",
    "\n",
    "for i in range(len(size)):\n",
    "    plt.plot(radius[i], arrays_var[i], label = 'L =' + str(size[i]))\n",
    "\n",
    "plt.xscale('log')\n",
    "plt.yscale('log')\n",
    "plt.legend()\n",
    "plt.show()"
   ]
  },
  {
   "cell_type": "markdown",
   "id": "60d8bd60",
   "metadata": {},
   "source": [
    "# 1.3\n",
    "Comment the\n",
    "results : why do $\\frac{\\sigma(R)^2}{R^2 }$ goes to a constant at short distance ? What are the reasons of\n",
    "the oscillations of the curve ? \n",
    "The straight line corresponds to the asymptotic behavior of variance at long distance.\n",
    "Why do the amplitudes of the oscillations decrease at long distance ?"
   ]
  },
  {
   "cell_type": "markdown",
   "id": "7b6b3b7e",
   "metadata": {},
   "source": [
    "In order to understand why the curve oscillate we can think at the simplest case, when the center of the observed circle corresponds to a site of the lattice. Let's distinguish the 2 behaviours determining the oscillation, starting from a maximum of the curve: the decreasing and the subsequent increasing of $\\frac{\\sigma^2}{R^2}$ for a small increase of R. Let's visualize the configuration which realises the maximum on a single lattice cell: the arc of the perimeter of the circle is cutting the cell very close to a corner, i.e. a lattice point. But, increasing R, we have to wait the circle reaches the farther two diagonal corners of the cell in order for N(R) to increase: so, N(R) remains constant while R increases, meaning that the ratio diminishes, until the minimum is reached. Then, once R has increased sufficiently for the circle to enclose the other two sites, N(R) will increase and determine the maximum, and so on when a farther cell is reached. Since this behaviour is periodic, the same line of reasoning is valid when the circle is centered in a point different from a site."
   ]
  },
  {
   "cell_type": "code",
   "execution_count": null,
   "id": "cc4fd291",
   "metadata": {},
   "outputs": [],
   "source": []
  }
 ],
 "metadata": {
  "kernelspec": {
   "display_name": "Python 3",
   "language": "python",
   "name": "python3"
  },
  "language_info": {
   "codemirror_mode": {
    "name": "ipython",
    "version": 3
   },
   "file_extension": ".py",
   "mimetype": "text/x-python",
   "name": "python",
   "nbconvert_exporter": "python",
   "pygments_lexer": "ipython3",
   "version": "3.8.8"
  }
 },
 "nbformat": 4,
 "nbformat_minor": 5
}
