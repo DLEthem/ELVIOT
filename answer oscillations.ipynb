{
 "cells": [
  {
   "cell_type": "code",
   "execution_count": 1,
   "id": "5eb996f9",
   "metadata": {},
   "outputs": [],
   "source": [
    "import numpy as np\n",
    "import matplotlib.pyplot as plt\n",
    "from numpy import random"
   ]
  },
  {
   "cell_type": "code",
   "execution_count": 2,
   "id": "40417518",
   "metadata": {},
   "outputs": [],
   "source": [
    "def distance(a,b):                                                                        #calculate the distance between two points\n",
    "    return np.sqrt((a[0]-b[0])**2 + (a[1]-b[1])**2)\n",
    "\n",
    "def create(L):                                                                            #create a matrix of dimension LxL with all ones\n",
    "    M = np.ones(shape=(L,L))\n",
    "    return M\n",
    "\n",
    "def big_matrix(M):                                                                        #create a big matrix 3Lx3L to take PBC into account\n",
    "    M1 = np.hstack((M,M,M))\n",
    "    M2 = np.vstack((M1,M1,M1))\n",
    "    return M2    \n",
    "    \n",
    "def x_0(L):                                                                               #take a random point from the initial matrix\n",
    "    x = random.uniform(L,2*L)\n",
    "    y = random.uniform(L,2*L)\n",
    "    center = [x,y]\n",
    "    return center\n",
    "\n",
    "def small_matrix(M,c,r):\n",
    "    A = M[round(c[0]-r-1):round(c[0]+r+2),round(c[1]-r-1):round(c[1]+r+2)]                #take a small matrix centered in x_0 of \"radius\" r+1\n",
    "    return A\n",
    "\n",
    "def count(small,x,r):                                                                     #count how many points are at a distance <= r from x\n",
    "    n = 0\n",
    "    l = len(small)\n",
    "    c = [round((l+1)/2-1)+(x[0]-round(x[0])),round((l+1)/2-1)+(x[1]-round(x[1]))]\n",
    "    for i in range(l):\n",
    "        for j in range(l):\n",
    "            y = [i,j]\n",
    "            d = distance(y,c)\n",
    "            if d <= r :\n",
    "                n += 1\n",
    "    return n\n",
    "\n",
    "def arr_counts(L,n,R,big):                                                                # L size, n number of random points, R radius,\n",
    "    arr = []                                                                              # big is the big matrix (3*L x 3*L)\n",
    "    for i in range(n):\n",
    "        center = x_0(L)\n",
    "        small = small_matrix(big, center, R)\n",
    "        arr.append(count(small,center,R))\n",
    "    return arr\n",
    "\n",
    "def variance(arr):\n",
    "    mom = np.power(arr,2)\n",
    "    return np.average(mom)-np.power(np.average(arr),2)\n",
    "\n",
    "def create_prova(L):\n",
    "    A = np.arange(L**2).reshape((L, L))\n",
    "    return A\n",
    "\n",
    "def rescaled_variance_size(L):\n",
    "    A = create(L)\n",
    "    B = big_matrix(A)\n",
    "    arr_variance = []\n",
    "    radius = np.linspace(0.01,L/2,num=200)\n",
    "    for r in radius:\n",
    "        arr = arr_counts(L,10000,r,B)\n",
    "        var = variance(arr)\n",
    "        arr_variance.append(var/r**2)   \n",
    "    return arr_variance"
   ]
  },
  {
   "cell_type": "code",
   "execution_count": 4,
   "id": "1e10eada",
   "metadata": {},
   "outputs": [],
   "source": [
    "#debug\n",
    "L = 10\n",
    "A = create(L)\n",
    "B = big_matrix(A)"
   ]
  },
  {
   "cell_type": "code",
   "execution_count": 5,
   "id": "19b5a0da",
   "metadata": {},
   "outputs": [
    {
     "name": "stdout",
     "output_type": "stream",
     "text": [
      "[[1. 1. 1. 1. 1.]\n",
      " [1. 1. 1. 1. 1.]\n",
      " [1. 1. 1. 1. 1.]\n",
      " [1. 1. 1. 1. 1.]\n",
      " [1. 1. 1. 1. 1.]]\n",
      "0.4642006399999996\n"
     ]
    }
   ],
   "source": [
    "c = x_0(L)\n",
    "r = 1\n",
    "S = small_matrix(B,c,r)\n",
    "l = len(S)\n",
    "print(S)\n",
    "#print(S[c,c])\n",
    "#count(S,r)\n",
    "arr = arr_counts(L,10000,r,B)\n",
    "print(variance(arr))"
   ]
  },
  {
   "cell_type": "code",
   "execution_count": 6,
   "id": "a789ea7d",
   "metadata": {},
   "outputs": [
    {
     "ename": "KeyboardInterrupt",
     "evalue": "",
     "output_type": "error",
     "traceback": [
      "\u001b[1;31m---------------------------------------------------------------------------\u001b[0m",
      "\u001b[1;31mKeyboardInterrupt\u001b[0m                         Traceback (most recent call last)",
      "\u001b[1;32m<ipython-input-6-0c0caa5a2f18>\u001b[0m in \u001b[0;36m<module>\u001b[1;34m\u001b[0m\n\u001b[0;32m      2\u001b[0m \u001b[1;32mfor\u001b[0m \u001b[0msize\u001b[0m \u001b[1;32min\u001b[0m \u001b[0mL\u001b[0m\u001b[1;33m:\u001b[0m\u001b[1;33m\u001b[0m\u001b[1;33m\u001b[0m\u001b[0m\n\u001b[0;32m      3\u001b[0m     \u001b[0mx\u001b[0m \u001b[1;33m=\u001b[0m \u001b[1;33m[\u001b[0m\u001b[1;33m]\u001b[0m\u001b[1;33m\u001b[0m\u001b[1;33m\u001b[0m\u001b[0m\n\u001b[1;32m----> 4\u001b[1;33m     \u001b[0mx\u001b[0m \u001b[1;33m=\u001b[0m \u001b[0mrescaled_variance_size\u001b[0m\u001b[1;33m(\u001b[0m\u001b[0msize\u001b[0m\u001b[1;33m)\u001b[0m\u001b[1;33m\u001b[0m\u001b[1;33m\u001b[0m\u001b[0m\n\u001b[0m\u001b[0;32m      5\u001b[0m     \u001b[0mplt\u001b[0m\u001b[1;33m.\u001b[0m\u001b[0mplot\u001b[0m\u001b[1;33m(\u001b[0m\u001b[0mx\u001b[0m\u001b[1;33m,\u001b[0m \u001b[0mlabel\u001b[0m \u001b[1;33m=\u001b[0m \u001b[1;34m'L = $size'\u001b[0m\u001b[1;33m)\u001b[0m\u001b[1;33m\u001b[0m\u001b[1;33m\u001b[0m\u001b[0m\n\u001b[0;32m      6\u001b[0m     \u001b[0mplt\u001b[0m\u001b[1;33m.\u001b[0m\u001b[0mxscale\u001b[0m\u001b[1;33m(\u001b[0m\u001b[1;34m'log'\u001b[0m\u001b[1;33m)\u001b[0m\u001b[1;33m\u001b[0m\u001b[1;33m\u001b[0m\u001b[0m\n",
      "\u001b[1;32m<ipython-input-2-4ec923d9217f>\u001b[0m in \u001b[0;36mrescaled_variance_size\u001b[1;34m(L)\u001b[0m\n\u001b[0;32m     55\u001b[0m     \u001b[0mradius\u001b[0m \u001b[1;33m=\u001b[0m \u001b[0mnp\u001b[0m\u001b[1;33m.\u001b[0m\u001b[0mlinspace\u001b[0m\u001b[1;33m(\u001b[0m\u001b[1;36m0.01\u001b[0m\u001b[1;33m,\u001b[0m\u001b[0mL\u001b[0m\u001b[1;33m/\u001b[0m\u001b[1;36m2\u001b[0m\u001b[1;33m,\u001b[0m\u001b[0mnum\u001b[0m\u001b[1;33m=\u001b[0m\u001b[1;36m200\u001b[0m\u001b[1;33m)\u001b[0m\u001b[1;33m\u001b[0m\u001b[1;33m\u001b[0m\u001b[0m\n\u001b[0;32m     56\u001b[0m     \u001b[1;32mfor\u001b[0m \u001b[0mr\u001b[0m \u001b[1;32min\u001b[0m \u001b[0mradius\u001b[0m\u001b[1;33m:\u001b[0m\u001b[1;33m\u001b[0m\u001b[1;33m\u001b[0m\u001b[0m\n\u001b[1;32m---> 57\u001b[1;33m         \u001b[0marr\u001b[0m \u001b[1;33m=\u001b[0m \u001b[0marr_counts\u001b[0m\u001b[1;33m(\u001b[0m\u001b[0mL\u001b[0m\u001b[1;33m,\u001b[0m\u001b[1;36m10000\u001b[0m\u001b[1;33m,\u001b[0m\u001b[0mr\u001b[0m\u001b[1;33m,\u001b[0m\u001b[0mB\u001b[0m\u001b[1;33m)\u001b[0m\u001b[1;33m\u001b[0m\u001b[1;33m\u001b[0m\u001b[0m\n\u001b[0m\u001b[0;32m     58\u001b[0m         \u001b[0mvar\u001b[0m \u001b[1;33m=\u001b[0m \u001b[0mvariance\u001b[0m\u001b[1;33m(\u001b[0m\u001b[0marr\u001b[0m\u001b[1;33m)\u001b[0m\u001b[1;33m\u001b[0m\u001b[1;33m\u001b[0m\u001b[0m\n\u001b[0;32m     59\u001b[0m         \u001b[0marr_variance\u001b[0m\u001b[1;33m.\u001b[0m\u001b[0mappend\u001b[0m\u001b[1;33m(\u001b[0m\u001b[0mvar\u001b[0m\u001b[1;33m/\u001b[0m\u001b[0mr\u001b[0m\u001b[1;33m**\u001b[0m\u001b[1;36m2\u001b[0m\u001b[1;33m)\u001b[0m\u001b[1;33m\u001b[0m\u001b[1;33m\u001b[0m\u001b[0m\n",
      "\u001b[1;32m<ipython-input-2-4ec923d9217f>\u001b[0m in \u001b[0;36marr_counts\u001b[1;34m(L, n, R, big)\u001b[0m\n\u001b[0;32m     38\u001b[0m         \u001b[0mcenter\u001b[0m \u001b[1;33m=\u001b[0m \u001b[0mx_0\u001b[0m\u001b[1;33m(\u001b[0m\u001b[0mL\u001b[0m\u001b[1;33m)\u001b[0m\u001b[1;33m\u001b[0m\u001b[1;33m\u001b[0m\u001b[0m\n\u001b[0;32m     39\u001b[0m         \u001b[0msmall\u001b[0m \u001b[1;33m=\u001b[0m \u001b[0msmall_matrix\u001b[0m\u001b[1;33m(\u001b[0m\u001b[0mbig\u001b[0m\u001b[1;33m,\u001b[0m \u001b[0mcenter\u001b[0m\u001b[1;33m,\u001b[0m \u001b[0mR\u001b[0m\u001b[1;33m)\u001b[0m\u001b[1;33m\u001b[0m\u001b[1;33m\u001b[0m\u001b[0m\n\u001b[1;32m---> 40\u001b[1;33m         \u001b[0marr\u001b[0m\u001b[1;33m.\u001b[0m\u001b[0mappend\u001b[0m\u001b[1;33m(\u001b[0m\u001b[0mcount\u001b[0m\u001b[1;33m(\u001b[0m\u001b[0msmall\u001b[0m\u001b[1;33m,\u001b[0m\u001b[0mcenter\u001b[0m\u001b[1;33m,\u001b[0m\u001b[0mR\u001b[0m\u001b[1;33m)\u001b[0m\u001b[1;33m)\u001b[0m\u001b[1;33m\u001b[0m\u001b[1;33m\u001b[0m\u001b[0m\n\u001b[0m\u001b[0;32m     41\u001b[0m     \u001b[1;32mreturn\u001b[0m \u001b[0marr\u001b[0m\u001b[1;33m\u001b[0m\u001b[1;33m\u001b[0m\u001b[0m\n\u001b[0;32m     42\u001b[0m \u001b[1;33m\u001b[0m\u001b[0m\n",
      "\u001b[1;32m<ipython-input-2-4ec923d9217f>\u001b[0m in \u001b[0;36mcount\u001b[1;34m(small, x, r)\u001b[0m\n\u001b[0;32m     28\u001b[0m         \u001b[1;32mfor\u001b[0m \u001b[0mj\u001b[0m \u001b[1;32min\u001b[0m \u001b[0mrange\u001b[0m\u001b[1;33m(\u001b[0m\u001b[0ml\u001b[0m\u001b[1;33m)\u001b[0m\u001b[1;33m:\u001b[0m\u001b[1;33m\u001b[0m\u001b[1;33m\u001b[0m\u001b[0m\n\u001b[0;32m     29\u001b[0m             \u001b[0my\u001b[0m \u001b[1;33m=\u001b[0m \u001b[1;33m[\u001b[0m\u001b[0mi\u001b[0m\u001b[1;33m,\u001b[0m\u001b[0mj\u001b[0m\u001b[1;33m]\u001b[0m\u001b[1;33m\u001b[0m\u001b[1;33m\u001b[0m\u001b[0m\n\u001b[1;32m---> 30\u001b[1;33m             \u001b[0md\u001b[0m \u001b[1;33m=\u001b[0m \u001b[0mdistance\u001b[0m\u001b[1;33m(\u001b[0m\u001b[0my\u001b[0m\u001b[1;33m,\u001b[0m\u001b[0mc\u001b[0m\u001b[1;33m)\u001b[0m\u001b[1;33m\u001b[0m\u001b[1;33m\u001b[0m\u001b[0m\n\u001b[0m\u001b[0;32m     31\u001b[0m             \u001b[1;32mif\u001b[0m \u001b[0md\u001b[0m \u001b[1;33m<=\u001b[0m \u001b[0mr\u001b[0m \u001b[1;33m:\u001b[0m\u001b[1;33m\u001b[0m\u001b[1;33m\u001b[0m\u001b[0m\n\u001b[0;32m     32\u001b[0m                 \u001b[0mn\u001b[0m \u001b[1;33m+=\u001b[0m \u001b[1;36m1\u001b[0m\u001b[1;33m\u001b[0m\u001b[1;33m\u001b[0m\u001b[0m\n",
      "\u001b[1;32m<ipython-input-2-4ec923d9217f>\u001b[0m in \u001b[0;36mdistance\u001b[1;34m(a, b)\u001b[0m\n\u001b[0;32m      1\u001b[0m \u001b[1;32mdef\u001b[0m \u001b[0mdistance\u001b[0m\u001b[1;33m(\u001b[0m\u001b[0ma\u001b[0m\u001b[1;33m,\u001b[0m\u001b[0mb\u001b[0m\u001b[1;33m)\u001b[0m\u001b[1;33m:\u001b[0m                                                                        \u001b[1;31m#calculate the distance between two points\u001b[0m\u001b[1;33m\u001b[0m\u001b[1;33m\u001b[0m\u001b[0m\n\u001b[1;32m----> 2\u001b[1;33m     \u001b[1;32mreturn\u001b[0m \u001b[0mnp\u001b[0m\u001b[1;33m.\u001b[0m\u001b[0msqrt\u001b[0m\u001b[1;33m(\u001b[0m\u001b[1;33m(\u001b[0m\u001b[0ma\u001b[0m\u001b[1;33m[\u001b[0m\u001b[1;36m0\u001b[0m\u001b[1;33m]\u001b[0m\u001b[1;33m-\u001b[0m\u001b[0mb\u001b[0m\u001b[1;33m[\u001b[0m\u001b[1;36m0\u001b[0m\u001b[1;33m]\u001b[0m\u001b[1;33m)\u001b[0m\u001b[1;33m**\u001b[0m\u001b[1;36m2\u001b[0m \u001b[1;33m+\u001b[0m \u001b[1;33m(\u001b[0m\u001b[0ma\u001b[0m\u001b[1;33m[\u001b[0m\u001b[1;36m1\u001b[0m\u001b[1;33m]\u001b[0m\u001b[1;33m-\u001b[0m\u001b[0mb\u001b[0m\u001b[1;33m[\u001b[0m\u001b[1;36m1\u001b[0m\u001b[1;33m]\u001b[0m\u001b[1;33m)\u001b[0m\u001b[1;33m**\u001b[0m\u001b[1;36m2\u001b[0m\u001b[1;33m)\u001b[0m\u001b[1;33m\u001b[0m\u001b[1;33m\u001b[0m\u001b[0m\n\u001b[0m\u001b[0;32m      3\u001b[0m \u001b[1;33m\u001b[0m\u001b[0m\n\u001b[0;32m      4\u001b[0m \u001b[1;32mdef\u001b[0m \u001b[0mcreate\u001b[0m\u001b[1;33m(\u001b[0m\u001b[0mL\u001b[0m\u001b[1;33m)\u001b[0m\u001b[1;33m:\u001b[0m                                                                            \u001b[1;31m#create a matrix of dimension LxL with all ones\u001b[0m\u001b[1;33m\u001b[0m\u001b[1;33m\u001b[0m\u001b[0m\n\u001b[0;32m      5\u001b[0m     \u001b[0mM\u001b[0m \u001b[1;33m=\u001b[0m \u001b[0mnp\u001b[0m\u001b[1;33m.\u001b[0m\u001b[0mones\u001b[0m\u001b[1;33m(\u001b[0m\u001b[0mshape\u001b[0m\u001b[1;33m=\u001b[0m\u001b[1;33m(\u001b[0m\u001b[0mL\u001b[0m\u001b[1;33m,\u001b[0m\u001b[0mL\u001b[0m\u001b[1;33m)\u001b[0m\u001b[1;33m)\u001b[0m\u001b[1;33m\u001b[0m\u001b[1;33m\u001b[0m\u001b[0m\n",
      "\u001b[1;31mKeyboardInterrupt\u001b[0m: "
     ]
    },
    {
     "data": {
      "image/png": "[encoded data removed]",
      "text/plain": [
       "<Figure size 432x288 with 1 Axes>"
      ]
     },
     "metadata": {
      "needs_background": "light"
     },
     "output_type": "display_data"
    }
   ],
   "source": [
    "L = [50,100,200]\n",
    "for size in L:\n",
    "    x = []\n",
    "    x = rescaled_variance_size(size)\n",
    "    plt.plot(x, label = 'L = $size')\n",
    "    plt.xscale('log')\n",
    "    plt.yscale('log')\n",
    "plt.legend()\n",
    "plt.show()"
   ]
  },
  {
   "cell_type": "markdown",
   "id": "22cdd456",
   "metadata": {},
   "source": [
    "3. OSCILLATIONS: in order to understand why the curve oscillate we can think at the simplest case, when the center of the observed circle corresponds to a site of the lattice. Let's distinguish the 2 behaviours determining the oscillation, starting from a maximum of the curve: the decreasing and the subsequent increasing of $$\\frac{\\sigma^2}{R^2}$$ for a small increase of R.\n",
    "Let's visualize the configuration which realises the maximum on a single lattice cell: the arc of the perimeter of the circle is cutting the cell very close to a corner, i.e. a lattice point. But, increasing R, we have to wait the circle reaches the farther two diagonal corners of the cell in order for N(R) to increase: so, N(R) remains constant while R increases, meaning that the ratio diminishes, until the minimum is reached. \n",
    "Then, once R has increased sufficiently for the circle to enclose the other two sites, N(R) will increase and determine the maximum, and so on when a farther cell is reached. \n",
    "Since this behaviour is periodic, the same line of reasoning is valid when the circle is centered in a point different from a site."
   ]
  },
  {
   "cell_type": "code",
   "execution_count": null,
   "id": "1d1078c9",
   "metadata": {},
   "outputs": [],
   "source": []
  }
 ],
 "metadata": {
  "kernelspec": {
   "display_name": "Python 3",
   "language": "python",
   "name": "python3"
  },
  "language_info": {
   "codemirror_mode": {
    "name": "ipython",
    "version": 3
   },
   "file_extension": ".py",
   "mimetype": "text/x-python",
   "name": "python",
   "nbconvert_exporter": "python",
   "pygments_lexer": "ipython3",
   "version": "3.8.8"
  }
 },
 "nbformat": 4,
 "nbformat_minor": 5
}
